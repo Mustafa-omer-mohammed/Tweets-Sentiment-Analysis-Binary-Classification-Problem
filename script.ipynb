{
 "cells": [
  {
   "cell_type": "markdown",
   "id": "d663fd58-715d-427c-861d-9feaa33669e8",
   "metadata": {},
   "source": [
    "# DSL 2022 winter call\n",
    "## Steps:\n",
    "#### 1) Import dependecies\n",
    "#### 2) Dataset download\n",
    "#### 3) Data exploration\n",
    "#### 4) Data visualization\n",
    "#### 5) Preprocessing and data cleaning\n",
    "#### 6) Split dataset\n",
    "#### 7) TF-IDF\n",
    "#### 8) Model building\n",
    "#### 9) Model evaluation"
   ]
  },
  {
   "cell_type": "markdown",
   "id": "e67b1f93-96b4-49e2-b18e-f58897980670",
   "metadata": {},
   "source": [
    "#### 1 - Import libraries"
   ]
  },
  {
   "cell_type": "code",
   "execution_count": 150,
   "id": "2df7af11-4da8-43c4-8469-a073084dd8ee",
   "metadata": {},
   "outputs": [],
   "source": [
    "import numpy as np\n",
    "import pandas as pd\n",
    "import matplotlib.pyplot as plt\n",
    "import requests, zipfile, io\n",
    "\n",
    "import string\n",
    "# import regex to identify tags\n",
    "import re\n",
    "# import sklearn\n",
    "from sklearn.feature_extraction.text import TfidfVectorizer\n",
    "\n"
   ]
  },
  {
   "cell_type": "markdown",
   "id": "1007fa8f-88f2-4d33-bb02-3b4f7086aebd",
   "metadata": {},
   "source": [
    "#### 2 -  download and store dataset"
   ]
  },
  {
   "cell_type": "code",
   "execution_count": null,
   "id": "23a9bed0-71ff-40ee-9f92-9eb7f5f7a760",
   "metadata": {},
   "outputs": [],
   "source": [
    "def download_dataset(zip_file_url):\n",
    "    r = requests.get(zip_file_url)\n",
    "    z = zipfile.ZipFile(io.BytesIO(r.content))\n",
    "    z.extractall(\"./dataset\")\n",
    "    \n",
    "download_dataset('https://dbdmg.polito.it/dbdmg_web/wp-content/uploads/2021/12/DSL2122_january_dataset.zip')"
   ]
  },
  {
   "cell_type": "code",
   "execution_count": 140,
   "id": "5079bbeb-48af-4a7c-9435-6937a498db4c",
   "metadata": {},
   "outputs": [],
   "source": [
    "df = pd.read_csv('dataset/DSL2122_january_dataset/development.csv')"
   ]
  },
  {
   "cell_type": "markdown",
   "id": "ce906ad8-aeb5-405e-a5f0-99461cdbd7af",
   "metadata": {},
   "source": [
    "#### 3 - data exploration"
   ]
  },
  {
   "cell_type": "code",
   "execution_count": 141,
   "id": "eac72a5b-9d28-423e-8498-b855f2f87c33",
   "metadata": {},
   "outputs": [
    {
     "data": {
      "text/plain": [
       "14775     2013619755\n",
       "15561     1982247876\n",
       "30972     2061332895\n",
       "32028     2052514358\n",
       "34768     1557203543\n",
       "             ...    \n",
       "222784    1881916233\n",
       "224092    1982265149\n",
       "224251    2061444933\n",
       "224730    2189184639\n",
       "224890    2015474791\n",
       "Name: ids, Length: 278, dtype: int64"
      ]
     },
     "execution_count": 141,
     "metadata": {},
     "output_type": "execute_result"
    }
   ],
   "source": [
    "ids = df['ids']\n",
    "ids.unique().shape\n",
    "# Some ids are duplicated\n",
    "duplicated = df[df.duplicated(subset=\"ids\")]\n",
    "duplicated_ids = duplicated['ids']\n",
    "duplicated_ids"
   ]
  },
  {
   "cell_type": "code",
   "execution_count": 142,
   "id": "8ab370cb-88eb-49f2-bceb-1e10880ff7de",
   "metadata": {},
   "outputs": [
    {
     "data": {
      "text/plain": [
       "0"
      ]
     },
     "execution_count": 142,
     "metadata": {},
     "output_type": "execute_result"
    }
   ],
   "source": [
    "# check if there are some NaN\n",
    "np.sum(df.isnull().any(axis=1))\n",
    "# There isn't any NaN"
   ]
  },
  {
   "cell_type": "code",
   "execution_count": 143,
   "id": "000db719-b999-47e3-8412-f7440cfb92cd",
   "metadata": {},
   "outputs": [
    {
     "data": {
      "text/plain": [
       "array(['NO_QUERY'], dtype=object)"
      ]
     },
     "execution_count": 143,
     "metadata": {},
     "output_type": "execute_result"
    }
   ],
   "source": [
    "queries = df['flag']\n",
    "queries.unique()\n",
    "# Only NOQUERY attribute in the flag query"
   ]
  },
  {
   "cell_type": "markdown",
   "id": "f4ad4cb0-21d7-4930-ae06-a8a8f6d6a2ae",
   "metadata": {},
   "source": [
    "#### 4 - Plots"
   ]
  },
  {
   "cell_type": "markdown",
   "id": "e536fcd4-89be-4026-b30d-18c3d86fe938",
   "metadata": {},
   "source": [
    "####  target distribution (1: positive, 0: negative)"
   ]
  },
  {
   "cell_type": "code",
   "execution_count": 144,
   "id": "4c20c088-b719-4b9a-a1a5-60adbeadb61f",
   "metadata": {},
   "outputs": [
    {
     "data": {
      "image/png": "[encoded data removed]",
      "text/plain": [
       "<Figure size 432x288 with 1 Axes>"
      ]
     },
     "metadata": {
      "needs_background": "light"
     },
     "output_type": "display_data"
    }
   ],
   "source": [
    "ax = df.groupby('sentiment').count().plot(kind='bar', title = 'Distribution of the sentiment in the dev dataset')\n",
    "# Slightly unbalanced distribution of data"
   ]
  },
  {
   "cell_type": "markdown",
   "id": "79856b43-d6ae-46b0-a04a-47b5ddc1c8b8",
   "metadata": {},
   "source": [
    "#### 5 - Data preprocessing and cleaning"
   ]
  },
  {
   "cell_type": "markdown",
   "id": "68378c3d-4bed-4162-8d2f-753b47e8fd1f",
   "metadata": {},
   "source": [
    "#### Remove duplicated tweets"
   ]
  },
  {
   "cell_type": "code",
   "execution_count": 145,
   "id": "55a8816a-2720-4cb6-9034-70af829c2eb9",
   "metadata": {},
   "outputs": [
    {
     "data": {
      "text/html": [
       "<div>\n",
       "<style scoped>\n",
       "    .dataframe tbody tr th:only-of-type {\n",
       "        vertical-align: middle;\n",
       "    }\n",
       "\n",
       "    .dataframe tbody tr th {\n",
       "        vertical-align: top;\n",
       "    }\n",
       "\n",
       "    .dataframe thead th {\n",
       "        text-align: right;\n",
       "    }\n",
       "</style>\n",
       "<table border=\"1\" class=\"dataframe\">\n",
       "  <thead>\n",
       "    <tr style=\"text-align: right;\">\n",
       "      <th></th>\n",
       "      <th>sentiment</th>\n",
       "      <th>ids</th>\n",
       "      <th>date</th>\n",
       "      <th>flag</th>\n",
       "      <th>user</th>\n",
       "      <th>text</th>\n",
       "    </tr>\n",
       "  </thead>\n",
       "  <tbody>\n",
       "    <tr>\n",
       "      <th>0</th>\n",
       "      <td>1</td>\n",
       "      <td>1833972543</td>\n",
       "      <td>Mon May 18 01:08:27 PDT 2009</td>\n",
       "      <td>NO_QUERY</td>\n",
       "      <td>Killandra</td>\n",
       "      <td>@MissBianca76 Yes, talking helps a lot.. going...</td>\n",
       "    </tr>\n",
       "    <tr>\n",
       "      <th>1</th>\n",
       "      <td>1</td>\n",
       "      <td>1980318193</td>\n",
       "      <td>Sun May 31 06:23:17 PDT 2009</td>\n",
       "      <td>NO_QUERY</td>\n",
       "      <td>IMlisacowan</td>\n",
       "      <td>SUNSHINE. livingg itttt. imma lie on the grass...</td>\n",
       "    </tr>\n",
       "    <tr>\n",
       "      <th>2</th>\n",
       "      <td>1</td>\n",
       "      <td>1994409198</td>\n",
       "      <td>Mon Jun 01 11:52:54 PDT 2009</td>\n",
       "      <td>NO_QUERY</td>\n",
       "      <td>yaseminx3</td>\n",
       "      <td>@PleaseBeMine Something for your iphone</td>\n",
       "    </tr>\n",
       "    <tr>\n",
       "      <th>3</th>\n",
       "      <td>0</td>\n",
       "      <td>1824749377</td>\n",
       "      <td>Sun May 17 02:45:34 PDT 2009</td>\n",
       "      <td>NO_QUERY</td>\n",
       "      <td>no_surprises</td>\n",
       "      <td>@GabrielSaporta couldn't get in to the after p...</td>\n",
       "    </tr>\n",
       "    <tr>\n",
       "      <th>4</th>\n",
       "      <td>0</td>\n",
       "      <td>2001199113</td>\n",
       "      <td>Tue Jun 02 00:08:07 PDT 2009</td>\n",
       "      <td>NO_QUERY</td>\n",
       "      <td>Rhi_ShortStack</td>\n",
       "      <td>@bradiewebbstack awww is andy being mean again...</td>\n",
       "    </tr>\n",
       "    <tr>\n",
       "      <th>...</th>\n",
       "      <td>...</td>\n",
       "      <td>...</td>\n",
       "      <td>...</td>\n",
       "      <td>...</td>\n",
       "      <td>...</td>\n",
       "      <td>...</td>\n",
       "    </tr>\n",
       "    <tr>\n",
       "      <th>224989</th>\n",
       "      <td>0</td>\n",
       "      <td>2261324310</td>\n",
       "      <td>Sat Jun 20 20:36:48 PDT 2009</td>\n",
       "      <td>NO_QUERY</td>\n",
       "      <td>CynthiaBuroughs</td>\n",
       "      <td>@Dropsofreign yeah I hope Iran people reach fr...</td>\n",
       "    </tr>\n",
       "    <tr>\n",
       "      <th>224990</th>\n",
       "      <td>1</td>\n",
       "      <td>1989408152</td>\n",
       "      <td>Mon Jun 01 01:25:45 PDT 2009</td>\n",
       "      <td>NO_QUERY</td>\n",
       "      <td>unitechy</td>\n",
       "      <td>Trying the qwerty keypad</td>\n",
       "    </tr>\n",
       "    <tr>\n",
       "      <th>224991</th>\n",
       "      <td>0</td>\n",
       "      <td>1991221316</td>\n",
       "      <td>Mon Jun 01 06:38:10 PDT 2009</td>\n",
       "      <td>NO_QUERY</td>\n",
       "      <td>Xaan</td>\n",
       "      <td>I love Jasper &amp;amp; Jackson but that wig in th...</td>\n",
       "    </tr>\n",
       "    <tr>\n",
       "      <th>224992</th>\n",
       "      <td>0</td>\n",
       "      <td>2239702807</td>\n",
       "      <td>Fri Jun 19 08:51:56 PDT 2009</td>\n",
       "      <td>NO_QUERY</td>\n",
       "      <td>Ginger_Billie</td>\n",
       "      <td>I am really tired and bored and bleh! I feel c...</td>\n",
       "    </tr>\n",
       "    <tr>\n",
       "      <th>224993</th>\n",
       "      <td>1</td>\n",
       "      <td>2016018811</td>\n",
       "      <td>Wed Jun 03 06:00:29 PDT 2009</td>\n",
       "      <td>NO_QUERY</td>\n",
       "      <td>kevin_choo</td>\n",
       "      <td>@alyshatan good luck!! It sounds interesting t...</td>\n",
       "    </tr>\n",
       "  </tbody>\n",
       "</table>\n",
       "<p>224716 rows × 6 columns</p>\n",
       "</div>"
      ],
      "text/plain": [
       "        sentiment         ids                          date      flag  \\\n",
       "0               1  1833972543  Mon May 18 01:08:27 PDT 2009  NO_QUERY   \n",
       "1               1  1980318193  Sun May 31 06:23:17 PDT 2009  NO_QUERY   \n",
       "2               1  1994409198  Mon Jun 01 11:52:54 PDT 2009  NO_QUERY   \n",
       "3               0  1824749377  Sun May 17 02:45:34 PDT 2009  NO_QUERY   \n",
       "4               0  2001199113  Tue Jun 02 00:08:07 PDT 2009  NO_QUERY   \n",
       "...           ...         ...                           ...       ...   \n",
       "224989          0  2261324310  Sat Jun 20 20:36:48 PDT 2009  NO_QUERY   \n",
       "224990          1  1989408152  Mon Jun 01 01:25:45 PDT 2009  NO_QUERY   \n",
       "224991          0  1991221316  Mon Jun 01 06:38:10 PDT 2009  NO_QUERY   \n",
       "224992          0  2239702807  Fri Jun 19 08:51:56 PDT 2009  NO_QUERY   \n",
       "224993          1  2016018811  Wed Jun 03 06:00:29 PDT 2009  NO_QUERY   \n",
       "\n",
       "                   user                                               text  \n",
       "0             Killandra  @MissBianca76 Yes, talking helps a lot.. going...  \n",
       "1           IMlisacowan  SUNSHINE. livingg itttt. imma lie on the grass...  \n",
       "2             yaseminx3           @PleaseBeMine Something for your iphone   \n",
       "3          no_surprises  @GabrielSaporta couldn't get in to the after p...  \n",
       "4        Rhi_ShortStack  @bradiewebbstack awww is andy being mean again...  \n",
       "...                 ...                                                ...  \n",
       "224989  CynthiaBuroughs  @Dropsofreign yeah I hope Iran people reach fr...  \n",
       "224990         unitechy                          Trying the qwerty keypad   \n",
       "224991             Xaan  I love Jasper &amp; Jackson but that wig in th...  \n",
       "224992    Ginger_Billie  I am really tired and bored and bleh! I feel c...  \n",
       "224993       kevin_choo  @alyshatan good luck!! It sounds interesting t...  \n",
       "\n",
       "[224716 rows x 6 columns]"
      ]
     },
     "execution_count": 145,
     "metadata": {},
     "output_type": "execute_result"
    }
   ],
   "source": [
    "df.drop(df.index[duplicated.index], inplace = True)\n",
    "df"
   ]
  },
  {
   "cell_type": "markdown",
   "id": "6b4f6f90-dcd0-4250-b95f-57d399bc0d91",
   "metadata": {},
   "source": [
    "#### 1st try to remove every col except from the text and ids (useful for the submission)"
   ]
  },
  {
   "cell_type": "code",
   "execution_count": 146,
   "id": "1dd3f434-59f0-4795-90b9-12144bebebe0",
   "metadata": {},
   "outputs": [],
   "source": [
    "cols_to_hold = df.columns.drop(['date', 'flag'])\n",
    "df = df[cols_to_hold]"
   ]
  },
  {
   "cell_type": "markdown",
   "id": "a849d23d-bd97-4277-b1c0-7eba98365849",
   "metadata": {},
   "source": [
    "#### 2nd tweets in lowercase"
   ]
  },
  {
   "cell_type": "code",
   "execution_count": 147,
   "id": "8c767e40-2cfa-48df-b3d1-931e57bc574a",
   "metadata": {},
   "outputs": [
    {
     "name": "stderr",
     "output_type": "stream",
     "text": [
      "<ipython-input-147-9ee0ff620fd6>:2: SettingWithCopyWarning: \n",
      "A value is trying to be set on a copy of a slice from a DataFrame.\n",
      "Try using .loc[row_indexer,col_indexer] = value instead\n",
      "\n",
      "See the caveats in the documentation: https://pandas.pydata.org/pandas-docs/stable/user_guide/indexing.html#returning-a-view-versus-a-copy\n",
      "  df['text'] = df['text'].str.lower()\n"
     ]
    }
   ],
   "source": [
    "# not sure of the error\n",
    "df['text'] = df['text'].str.lower()\n"
   ]
  },
  {
   "cell_type": "markdown",
   "id": "4f5df612-8f20-45f2-96bf-095dd9355a81",
   "metadata": {},
   "source": [
    "#### Stop-words, mentions, tags, urlsand punctuation remove"
   ]
  },
  {
   "cell_type": "code",
   "execution_count": 148,
   "id": "49f7dba0-af0f-4382-b91e-86bb39303a9b",
   "metadata": {},
   "outputs": [
    {
     "name": "stderr",
     "output_type": "stream",
     "text": [
      "<ipython-input-148-8aeda8ea9392>:35: SettingWithCopyWarning: \n",
      "A value is trying to be set on a copy of a slice from a DataFrame.\n",
      "Try using .loc[row_indexer,col_indexer] = value instead\n",
      "\n",
      "See the caveats in the documentation: https://pandas.pydata.org/pandas-docs/stable/user_guide/indexing.html#returning-a-view-versus-a-copy\n",
      "  df['text'] = df['text'].apply(lambda text: clean_tweet(text))\n"
     ]
    }
   ],
   "source": [
    "stop_words = ['a', 'about', 'above', 'after', 'again', 'ain', 'all', 'am', 'an',\n",
    "             'and','any','are', 'as', 'at', 'be', 'because', 'been', 'before',\n",
    "             'being', 'below', 'between','both', 'by', 'can', 'd', 'did', 'do',\n",
    "             'does', 'doing', 'down', 'during', 'each','few', 'for', 'from',\n",
    "             'further', 'had', 'has', 'have', 'having', 'he', 'her', 'here',\n",
    "             'hers', 'herself', 'him', 'himself', 'his', 'how', 'i', 'if', 'in',\n",
    "             'into','is', 'it', 'its', 'itself', 'just', 'll', 'm', 'ma',\n",
    "             'me', 'more', 'most','my', 'myself', 'now', 'o', 'of', 'on', 'once',\n",
    "             'only', 'or', 'other', 'our', 'ours','ourselves', 'out', 'own', 're','s', 'same', 'she', \"shes\", 'should', \"shouldve\",'so', 'some', 'such',\n",
    "             't', 'than', 'that', \"thatll\", 'the', 'their', 'theirs', 'them',\n",
    "             'themselves', 'then', 'there', 'these', 'they', 'this', 'those',\n",
    "             'through', 'to', 'too','under', 'until', 'up', 've', 'very', 'was',\n",
    "             'we', 'were', 'what', 'when', 'where','which','while', 'who', 'whom',\n",
    "             'why', 'will', 'with', 'won', 'y', 'you', \"youd\",\"youll\", \"youre\",\n",
    "             \"youve\", 'your', 'yours', 'yourself', 'yourselves']\n",
    "\n",
    "def clean_tweet(text):\n",
    "    # for a givent text we replace every @mention with a \"\" (empty string)\n",
    "    text_with_no_tags = re.sub(\"@[A-Za-z0-9_]+\",\"\", text)\n",
    "    \n",
    "    # NOT SURE!!!!!!!!! --> for a givent text we replace every @mention with a \"\" (empty string)\n",
    "    text_with_no_tags_and_hashtags = re.sub(\"#[A-Za-z0-9_]+\",\"\", text_with_no_tags)\n",
    "    \n",
    "    # links remove\n",
    "    text_with_no_tags_and_links = re.sub(\"((www.[^s]+)|(https?://[^s]+))\",\"\",text_with_no_tags_and_hashtags)\n",
    "    \n",
    "    # Now, remove punctation\n",
    "    # string.punctuation gives all the punctuation, including # and @. For this reason, we make this step as the last one\n",
    "    translator = str.maketrans('', '', string.punctuation)\n",
    "    text_with_stopwords_only = text_with_no_tags_and_hashtags.translate(translator)\n",
    "\n",
    "    # for a given text, we read and return all the words (if not stopwords) separated by \" \"\n",
    "    return \" \".join([word for word in str(text_with_stopwords_only).split() if word not in stop_words])\n",
    "\n",
    "df['text'] = df['text'].apply(lambda text: clean_tweet(text))"
   ]
  },
  {
   "cell_type": "markdown",
   "id": "0350fcb3-8459-4023-ab80-48bb0b59cd38",
   "metadata": {},
   "source": [
    "#### Remove repeting chars ?"
   ]
  },
  {
   "cell_type": "markdown",
   "id": "2a8dd54f-b982-40ed-9216-152218765350",
   "metadata": {},
   "source": [
    "#### Remove numeric chars ?"
   ]
  },
  {
   "cell_type": "markdown",
   "id": "54ce63a1-bf44-42eb-af4c-a633f07f7671",
   "metadata": {},
   "source": [
    "#### Tokenization"
   ]
  },
  {
   "cell_type": "code",
   "execution_count": null,
   "id": "63732ff6-9e5e-44f7-90ab-87cedced8b6f",
   "metadata": {},
   "outputs": [],
   "source": []
  }
 ],
 "metadata": {
  "kernelspec": {
   "display_name": "Python 3",
   "language": "python",
   "name": "python3"
  },
  "language_info": {
   "codemirror_mode": {
    "name": "ipython",
    "version": 3
   },
   "file_extension": ".py",
   "mimetype": "text/x-python",
   "name": "python",
   "nbconvert_exporter": "python",
   "pygments_lexer": "ipython3",
   "version": "3.8.2"
  }
 },
 "nbformat": 4,
 "nbformat_minor": 5
}
